{
 "cells": [
  {
   "cell_type": "code",
   "execution_count": null,
   "id": "28b89be8",
   "metadata": {},
   "outputs": [
    {
     "name": "stdout",
     "output_type": "stream",
     "text": [
      "\n"
     ]
    }
   ],
   "source": [
    "\n",
    "import numpy\n",
    "import meshio\n",
    "import sys\n",
    " \n",
    "filename = \"crack\"\n",
    "filenamemsh = (filename + \".msh\")\n",
    "filenamexdmf = (filename + \".xdmf\")\n",
    "filenamexdmf_facet = (\"facet_\" + filename + \".xdmf\")\n",
    "\n",
    "mesh_from_file = meshio.read(filenamemsh)\n",
    "\n",
    "\"\"\"\n",
    "Extract cells and boundary data.\n",
    "\n",
    "Now that we have created the mesh, we need to extract the cells \n",
    "and physical data. We need to create a separate file for the \n",
    "facets (lines),  which we will use when we define boundary \n",
    "conditions in  Fenics\n",
    "\"\"\"\n",
    "\n",
    "def create_mesh(mesh, cell_type, prune_z=False):\n",
    "    cells = mesh.get_cells_type(cell_type)\n",
    "    cell_data = mesh.get_cell_data(\"gmsh:physical\", cell_type)\n",
    "    points = mesh.points[:,:2] if prune_z else mesh.points\n",
    "    out_mesh = meshio.Mesh(points=points, cells={cell_type: cells},\\\n",
    "                           cell_data={\"name_to_read\":[cell_data]})\n",
    "    return out_mesh\n",
    "\n",
    "\"\"\"\n",
    "With this function in hand, we can save the facet line mesh \n",
    "and the domain triangle  mesh in `XDMF` format \n",
    "\"\"\"\n",
    "\n",
    "line_mesh = create_mesh(mesh_from_file, \"line\", prune_z=True)\n",
    "meshio.write(filenamexdmf_facet, line_mesh)\n",
    "\n",
    "triangle_mesh = create_mesh(mesh_from_file, \"triangle\", prune_z=True)\n",
    "meshio.write(filenamexdmf, triangle_mesh)"
   ]
  },
  {
   "cell_type": "code",
   "execution_count": null,
   "id": "0983c435",
   "metadata": {},
   "outputs": [],
   "source": []
  },
  {
   "cell_type": "code",
   "execution_count": null,
   "id": "84236ebf",
   "metadata": {},
   "outputs": [],
   "source": []
  }
 ],
 "metadata": {
  "kernelspec": {
   "display_name": "Python 3 (ipykernel)",
   "language": "python",
   "name": "python3"
  },
  "language_info": {
   "codemirror_mode": {
    "name": "ipython",
    "version": 3
   },
   "file_extension": ".py",
   "mimetype": "text/x-python",
   "name": "python",
   "nbconvert_exporter": "python",
   "pygments_lexer": "ipython3",
   "version": "3.9.13"
  }
 },
 "nbformat": 4,
 "nbformat_minor": 5
}
